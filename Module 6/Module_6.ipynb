# Emily Wood
# CS340
# Client/Server Development
# 12/03/2022

from jupyter_plotly_dash import JupyterDash

import dash
import dash_leaflet as dl
import dash_core_components as dcc
import dash_html_components as html
import plotly.express as px
import dash_table
from dash.dependencies import Input, Output


import numpy as np
import pandas as pd
import matplotlib.pyplot as plt
from pymongo import MongoClient


#### FIX ME #####
# change animal_shelter and AnimalShelter to match your CRUD Python module file name and class name
from animal_shelter import AnimalShelter



###########################
# Data Manipulation / Model
###########################
# FIX ME update with your username and password and CRUD Python module name

username = "aacuser"
password = "password1"
shelter = AnimalShelter(username, password)


# class read method must support return of cursor object and accept projection json input
df = pd.DataFrame.from_records(shelter.read_all({}))





#########################
# Dashboard Layout / View
#########################
app = JupyterDash('SimpleExample')

app.layout = html.Div([
    html.Div(id='hidden-div', style={'display':'none'}),
    html.Center(html.B(html.H1('Emily Wood\'s SNHU CS-340 Dashboard'))),
    html.Hr(),
    html.Div(className='row',
            style={'display' : 'flex'},
             children=[
                 html.Button(id='submit-button-one', n_clicks=0, children='Cats'),
                 html.Button(id='submit-button-two', n_clicks=0, children='Dogs'),
             ]
            ),
    dash_table.DataTable(
        id='datatable-id',
        columns=[
            {"name": i, "id": i, "deletable": False, "selectable": True} for i in df.columns
        ],
        data=df.to_dict('records'),
        #FIXME: Set up the features for your interactive data table to make it user-friendly for your client
        editable=False,
        filter_action="native",
        sort_action="native",
        row_selectable="single",
        selected_rows=[],
        page_action="native",
        page_current= 0,
        page_size= 10
    ),
    html.Br(),
     html.Hr(),
     html.Div(
            id='map-id',
            className='col s12 m6',
            )
])

#############################################
# Interaction Between Components / Controller
#############################################

@app.callback(Output('datatable-id', "data"),
             [Input('submit-button-one', 'n_clicks'),
              Input('submit-button-two', 'n_clicks'),
             ])

def on_click(bt1,bt2):
    #start case
    if (int(bt1) == 0 and int(bt2) == 0):
        df = pd.DataFrame.from_records(shelter.read_all({}))
    elif (int(bt1) > int(bt2)):
        df = pd.DataFrame(list(shelter.read_all({"animal_type":"Cat"})))
    elif (int(bt2) > int(bt1)):
        df = pd.DataFrame(list(shelter.read_all({"animal_type": "Dog"})))
    
    bt1 = 0
    bt2 = 0
    return df.to_dict('records')

#This callback will highlight a row on the data table when the user selects it
@app.callback(
    Output('datatable-id', 'style_data_conditional'),
    [Input('datatable-id', 'derived_virtual_selected_row_ids')])

def update_styles(selectedRow):
    
    return [
        {
        'if': {'filter_query': '{{id}} ={}'.format(i)},
        'background_color': '#D2F3FF'
        }
        for i in selectedRow
    ]


@app.callback(
    Output('map-id', "children"),
    [Input('datatable-id', "derived_virtual_selected_rows")]
)

def update_map(viewData):
    # Austin TX is at [30.75,-97.48]
    
    if not viewData:
        latitude = 30.75 # AUSTIN TX
        longitude = -97.48 # AUSTIN TX
        animalName = "Austin Animal Center"
    else:
        dff = pd.DataFrame(df.iloc[viewData])
        latitude = float(dff['location_lat'])
        longitude = float(dff['location_long'])
        animalName = dff['name']

    return [
        dl.Map(style={'width': '500px', 'height': '500px'}, center=[30.75,-97.48], zoom=10, children=[
            dl.TileLayer(id="base-layer-id"),
            # Marker with tool tip and popup
            dl.Marker(position=[latitude, longitude], children=[
                dl.Popup([
                    html.H1("Animal Name"),
                    html.P(animalName)
                ])
            ])
        ])
    ]
    
app
