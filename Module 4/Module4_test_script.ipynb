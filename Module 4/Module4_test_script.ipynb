# Emily Wood
# CS340
# Client/Server Development
# 11/20/2022
# Create a Python testing script in Jupyter Notebooks that imports your CRUD Python module to call and test the create and read instances of CRUD functionality. 

from animal_shelter import AnimalShelter

# create an object
shelter = AnimalShelter("aacuser", "password1")

# create an animal
data = {"age_upon_outcome":"3 Years","animal_type":"Dog","breed":"Mastiff","color":"Black/Brown","date_of_birth":"2019-08-10","name":"Ember"}

if shelter.create(data):
    print("Animal Successfully Added")

# read created animal
knownAnimal = shelter.read({"name":"Ember"})

print(knownAnimal)
