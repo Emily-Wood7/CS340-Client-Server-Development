# Emily Wood
# CS340
# Client/Server Development
# 12/09/2022

from jupyter_plotly_dash import JupyterDash

import dash
import dash_leaflet as dl
import dash_core_components as dcc
import dash_html_components as html
import plotly.express as px
import dash_table
from dash.dependencies import Input, Output, State
import base64
import re

import os
import numpy as np
import pandas as pd
from pymongo import MongoClient
from bson.json_util import dumps

#### FIX ME #####
# change animal_shelter and AnimalShelter to match your CRUD Python module file name and class name
from animal_shelter import AnimalShelter



###########################
# Data Manipulation / Model
###########################
# FIX ME update with your username and password and CRUD Python module name

username = "aacuser"
password = "password1"
shelter = AnimalShelter(username, password)


# class read method must support return of cursor object and accept projection json input
df = pd.DataFrame.from_records(shelter.read_all({}))



#########################
# Dashboard Layout / View
#########################
app = JupyterDash('SimpleExample')

#FIX ME Add in Grazioso Salvare’s logo
image_filename = 'Grazioso Salvare Logo.png' # replace with your own image
encoded_image = base64.b64encode(open(image_filename, 'rb').read())

#FIX ME Place the HTML image tag in the line below into the app.layout code according to your design
#FIX ME Also remember to include a unique identifier such as your name or date


app.layout = html.Div([
    html.Div(id='hidden-div', style={'display':'none'}),
    html.Center(html.Img(src='data:image/png;base64,{}'.format(encoded_image.decode()),
                        height=200, width=200)),
    html.Center(html.B(html.H3('Emily Wood\'s SNHU CS-340 Dashboard'))),
    html.Hr(),
    html.Div(
#FIXME Add in code for the interactive filtering options. For example, Radio buttons, drop down, checkboxes, etc.
        dcc.Dropdown(
            id='filter-type',
            options=[
                {'label': 'Water', 'value' : 'WAT'},
                {'label': 'Mountain or Wilderness', 'value' : 'MTN'},
                {'label': 'Disaster or Individual Tracking', 'value' : 'DIS'}, 
                {'label': 'All', 'value' : 'ALL'}],
            placeholder="Select Type of Rescue",
            style={'width' : '50%'}
        )
    ),   
    html.Hr(),
    dash_table.DataTable(
        id='datatable-id',
        columns=[
            {"name": i, "id": i, "deletable": True, "selectable": True} for i in df.columns
        ],
        data=df.to_dict('records'),
#FIXME: Set up the features for your interactive data table to make it user-friendly for your client
#If you completed the Module Six Assignment, you can copy in the code you created here 
        editable=True,
        filter_action="native",
        sort_action="native",
        row_selectable="single",
        selected_rows=[],
        page_action="native",
        page_current= 0,
        page_size= 10
        
    ),
    html.Br(),
    html.Hr(),
#This sets up the dashboard so that your chart and your geolocation chart are side-by-side
    html.Div(className='row',
         style={'display' : 'flex'},
             children=[
        html.Div(
            id='graph-id',
            className='col s12 m6',

            ),
        html.Div(
            id='map-id',
            className='col s12 m6',
            )
        ])
])

#############################################
# Interaction Between Components / Controller
#############################################



    
@app.callback([Output('datatable-id','data'),
               Output('datatable-id','columns')],
              [Input('filter-type', 'value')])

def update_dashboard(filter_type):
### FIX ME Add code to filter interactive data table with MongoDB queries
        if filter_type == 'WAT':
            df = pd.DataFrame.from_records(shelter.read_all({
                '$or': [
                    {"breed" : {'$regex': 'lab', '$options': 'i'}}, 
                    {"breed" : {'$regex': 'chesa', '$options': 'i'}}, 
                    {"breed" : {'$regex': 'newf', '$options': 'i'}}
                ],
                "sex_upon_outcome" : "Intact Female",
                "age_upon_outcome_in_weeks" : {"$gte": 26, "$lte": 156}
            }))
            
        elif filter_type == 'MTN':
            df = pd.DataFrame.from_records(shelter.read_all({
                '$or': [
                    {"breed" : {'$regex': 'germ', '$options': 'i'}}, 
                    {"breed" : {'$regex': 'mala', '$options': 'i'}}, 
                    {"breed" : {'$regex': 'old', '$options': 'i'}},
                    {"breed" : {'$regex': 'siber', '$options': 'i'}},
                    {"breed" : {'$regex': 'rott', '$options': 'i'}}
                ],
                "sex_upon_outcome" : "Intact Male",
                "age_upon_outcome_in_weeks" : {"$gte": 26, "$lte": 156}
            }))

        elif filter_type == 'DIS':
            df = pd.DataFrame.from_records(shelter.read_all({
                '$or': [
                    {"breed" : {'$regex': 'doberman', '$options': 'i'}}, 
                    {"breed" : {'$regex': 'germ', '$options': 'i'}}, 
                    {"breed" : {'$regex': 'gold', '$options': 'i'}},
                    {"breed" : {'$regex': 'blood', '$options': 'i'}},
                    {"breed" : {'$regex': 'rott', '$options': 'i'}}
                ],
                "sex_upon_outcome" : "Intact Male",
                "age_upon_outcome_in_weeks" : {"$gte": 20, "$lte": 300}
            }))
            
        elif filter_type == 'ALL':
            df = pd.DataFrame.from_records(shelter.read_all({}))
        

        columns=[{"name": i, "id": i, "deletable": True, "selectable": True} for i in df.columns]
        data=df.to_dict('records')
        
        
        return (data,columns)



@app.callback(
    Output('graph-id', "children"),
    [Input('datatable-id', "derived_virtual_data")])

def update_graphs(viewData):
    ###FIX ME ####
    # add code for chart of your choice (e.g. pie chart) #
    
    dff = pd.DataFrame.from_dict(viewData)     
    
    return [
        dcc.Graph(            
            figure = px.pie(dff, names=dff.breed)
        )    
    ]

@app.callback(
    Output('map-id', "children"),
    [Input('datatable-id', "derived_virtual_data"),
    Input('datatable-id', "derived_virtual_selected_rows")])

def update_map(viewData, selectedRow):
    # Austin TX is at [30.75,-97.48]
    
    tempDF = pd.DataFrame(viewData)
    
    if not selectedRow:
        latitude = 30.75 # AUSTIN TX
        longitude = -97.48 # AUSTIN TX
        animalName = "Austin Animal Center"
        animalBreed = ""
    else:
        dff = pd.DataFrame(tempDF.iloc[selectedRow])
        latitude = float(dff['location_lat'])
        longitude = float(dff['location_long'])
        animalName = dff['name']
        animalBreed = dff['breed']

    return [
        dl.Map(style={'width': '500px', 'height': '500px'}, center=[30.75,-97.48], zoom=10, children=[
            dl.TileLayer(id="base-layer-id"),
            # Marker with tool tip and popup
            dl.Marker(position=[latitude, longitude], children=[
                dl.Popup([
                    html.H1(animalName),
                    html.H3(animalBreed)
                ])
            ])
        ])
    ]



app
