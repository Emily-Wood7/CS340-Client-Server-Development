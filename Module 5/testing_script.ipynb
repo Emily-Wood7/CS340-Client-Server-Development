from animal_shelter import AnimalShelter

shelter = AnimalShelter("aacuser", "password1")

data = {"age_upon_outcome":"3 Years","animal_type":"Dog","breed":"Mastiff","color":"Black/Brown","date_of_birth":"2019-08-10","name":"Ember"}

query = {"name":"Ember"}


# test the create method
if shelter.create(data):
    print("\nTest the create method")
    print("Animal Successfully Added")
    
# test the read method
knownAnimal = shelter.read(query)

print("\nTest the read method")
print(knownAnimal)

# test the update method
change = {"$set": {"breed":"Pitbull"}}

shelter.update(query, change)

print("\nTest the update method")
print(shelter.read(query))

# test the delete method
shelter.delete(query)

knownAnimal = shelter.read(query)

if not knownAnimal:
    print("\nTest the delete method")
    print("Animal does not exist")
else:
    print("\nTest the delete method")
    print(knownAnimal)